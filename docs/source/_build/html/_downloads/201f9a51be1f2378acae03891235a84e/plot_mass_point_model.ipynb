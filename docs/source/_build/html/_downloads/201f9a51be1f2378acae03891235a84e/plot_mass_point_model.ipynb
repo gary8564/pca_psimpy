{
  "cells": [
    {
      "cell_type": "code",
      "execution_count": null,
      "metadata": {
        "collapsed": false
      },
      "outputs": [],
      "source": [
        "%matplotlib inline"
      ]
    },
    {
      "cell_type": "markdown",
      "metadata": {},
      "source": [
        "\n# Mass Point Model\n"
      ]
    },
    {
      "cell_type": "markdown",
      "metadata": {},
      "source": [
        "This example shows how to simulate the movement of a masspoint on a topography\nusing :class:`.MassPointModel`.\n\n\n\n"
      ]
    },
    {
      "cell_type": "markdown",
      "metadata": {},
      "source": [
        "First, import the class :class:`.MassPointModel` and create an instance by\n\n"
      ]
    },
    {
      "cell_type": "code",
      "execution_count": null,
      "metadata": {
        "collapsed": false
      },
      "outputs": [],
      "source": [
        "from psimpy.simulator import MassPointModel\n\nmpm = MassPointModel()"
      ]
    },
    {
      "cell_type": "markdown",
      "metadata": {},
      "source": [
        "Required inputs for a simulation using :class:`.MassPointModel` include:\n    1. topographic data: digital elevation model (in `ESRI ascii` format)\n    2. friction coefficients: coulomb friction and turbulent friction coefficients\n    3. initial state: initial location and initial velocity of the masspoint\n    4. computational parameters: such as time step, end time, etc.\n\nThe synthetic topography ``synthetic_topo.asc`` is used here for illustration.\nIt is located at the `tests/data/` folder.\n\n"
      ]
    },
    {
      "cell_type": "code",
      "execution_count": null,
      "metadata": {
        "collapsed": false
      },
      "outputs": [],
      "source": [
        "import os\nimport linecache\nimport numpy as np\n\ndir_data = os.path.abspath('../../../tests/data/')\nelevation = os.path.join(dir_data, 'synthetic_topo.asc')"
      ]
    },
    {
      "cell_type": "markdown",
      "metadata": {},
      "source": [
        "<div class=\"alert alert-info\"><h4>Note</h4><p>You may need to modify ``dir_data`` according to where you save\n   ``synthetic_topo.asc`` on your local machine.</p></div>\n\n"
      ]
    },
    {
      "cell_type": "markdown",
      "metadata": {},
      "source": [
        "We can load the elevation data and visulize it. The figure below shows how\nthe topography looks like, as well as the initial location of the masspoint\n(noted by the red dot).\n\n"
      ]
    },
    {
      "cell_type": "code",
      "execution_count": null,
      "metadata": {
        "collapsed": false
      },
      "outputs": [],
      "source": [
        "header = [linecache.getline(elevation, i) for i in range(1,6)]\nheader_values = [float(h.split()[-1].strip()) for h in header]\nncols, nrows, xll, yll, cellsize = header_values\nncols = int(ncols)\nnrows = int(nrows)\n\nx_values = np.arange(xll, xll+(cellsize*ncols), cellsize)\ny_values = np.arange(yll, yll+(cellsize*nrows), cellsize)\n        \nz_values = np.loadtxt(elevation, skiprows=6)\nz_values = np.rot90(np.transpose(z_values))\n\n# initial location\nx0 = 200\ny0 = 2000\nz0 = z_values[0, int(x0/cellsize)]\n\nimport matplotlib.pyplot as plt\n\nfig, ax = plt.subplots(2, 1, figsize=(10,6), height_ratios=[3,2])\n\nfig0 = ax[0].contourf(x_values, y_values, z_values, levels=20)\nax[0].set_xlabel('x')\nax[0].set_ylabel('y')\nax[0].set_title('synthetic topography')\nax[0].scatter(x0, y0, s=10, c='r', marker='o')\ncbar = plt.colorbar(fig0, ax=ax[0], format='%d', orientation='horizontal',\n    fraction=0.1, pad=0.2)\ncbar.ax.set_ylabel('z')\n\n\nax[1].plot(x_values, z_values[0, :])\nax[1].scatter(x0, z0, s=10, c='r', marker='o')\nax[1].set_xlabel('x')\nax[1].set_ylabel('z')\nax[1].set_xlim(0, 5000)\nax[1].set_title('cross section at any y')\n\nplt.tight_layout()"
      ]
    },
    {
      "cell_type": "markdown",
      "metadata": {},
      "source": [
        "We set the friction coefficients as\n\n"
      ]
    },
    {
      "cell_type": "code",
      "execution_count": null,
      "metadata": {
        "collapsed": false
      },
      "outputs": [],
      "source": [
        "mu = 0.15\nxi = 1000"
      ]
    },
    {
      "cell_type": "markdown",
      "metadata": {},
      "source": [
        "Given above topography, initial location, and friction coefficients, we can\ncall the :py:meth:`.MassPointModel.run` method to perform a simulation. Other\nparameters are set to their default values. (we suppress raised warnings )\n(other parameters are set to their default values).\n\n"
      ]
    },
    {
      "cell_type": "code",
      "execution_count": null,
      "metadata": {
        "collapsed": false
      },
      "outputs": [],
      "source": [
        "import warnings\n\nwarnings.filterwarnings(\"ignore\")\noutput = mpm.run(elevation=elevation, coulomb_friction=mu, turbulent_friction=xi, x0=x0, y0=y0)"
      ]
    },
    {
      "cell_type": "markdown",
      "metadata": {},
      "source": [
        "The simulation returns time history of the mass point's location and velocity.\nFollowing plots show the simulation results.\n\n"
      ]
    },
    {
      "cell_type": "code",
      "execution_count": null,
      "metadata": {
        "collapsed": false
      },
      "outputs": [],
      "source": [
        "fig, ax = plt.subplots(3, 1, figsize=(10,6))\n\nax[0].set_xlabel('time (s)')\nax[0].set_ylabel('x')\nax[0].set_title(\"x-t plot\")\nax[0].plot(output[:,0], output[:,1])\n\nax[1].set_xlabel('time (s)')\nax[1].set_ylabel('velocity')\nax[1].set_title(\"v-t plot\")\nax[1].plot(output[:,0], output[:,5])\n\nax[2].set_xlabel('x')\nax[2].set_ylabel('velocity')\nax[2].set_title(\"x-v plot\")\nax[2].plot(output[:,1], output[:,5])\n\nplt.tight_layout()"
      ]
    }
  ],
  "metadata": {
    "kernelspec": {
      "display_name": "Python 3",
      "language": "python",
      "name": "python3"
    },
    "language_info": {
      "codemirror_mode": {
        "name": "ipython",
        "version": 3
      },
      "file_extension": ".py",
      "mimetype": "text/x-python",
      "name": "python",
      "nbconvert_exporter": "python",
      "pygments_lexer": "ipython3",
      "version": "3.12.0"
    }
  },
  "nbformat": 4,
  "nbformat_minor": 0
}
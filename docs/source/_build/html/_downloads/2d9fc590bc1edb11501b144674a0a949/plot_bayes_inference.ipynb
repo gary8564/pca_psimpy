{
  "cells": [
    {
      "cell_type": "code",
      "execution_count": null,
      "metadata": {
        "collapsed": false
      },
      "outputs": [],
      "source": [
        "%matplotlib inline"
      ]
    },
    {
      "cell_type": "markdown",
      "metadata": {},
      "source": [
        "\n# Bayesian inference\n"
      ]
    },
    {
      "cell_type": "markdown",
      "metadata": {},
      "source": [
        "This example shows how to perform Bayesian inference given the uniform prior\n\n$p(\\mathbf{x})=p(x_1,x_2)=0.01$\n\nwhere $x_i \\in [-5,5], i=1,2$, and likelihood\n\n$L(\\mathbf{x}|\\mathbf{d})=\\exp \\left(-\\frac{1}{100}\\left(x_1-1\\right)^2-\\left(x_1^2-x_2\\right)^2\\right)$.\n\n\n"
      ]
    },
    {
      "cell_type": "code",
      "execution_count": null,
      "metadata": {
        "collapsed": false
      },
      "outputs": [],
      "source": [
        "import numpy as np\n\nndim = 2\nbounds = np.array([[-5,5],[-5,5]])\n\ndef prior(x):\n        return 0.01\n\ndef likelihood(x):\n        return np.exp(-(x[0]-1)**2/100 - (x[0]**2-x[1])**2)"
      ]
    },
    {
      "cell_type": "markdown",
      "metadata": {},
      "source": [
        "To estimate the posterior using grid estimation, we need to import the\n:class:`.GridEstimation` class, create an instance, and call the \n:py:meth:`.GridEstimation.run` method.\n\n"
      ]
    },
    {
      "cell_type": "code",
      "execution_count": null,
      "metadata": {
        "collapsed": false
      },
      "outputs": [],
      "source": [
        "from psimpy.inference.bayes_inference import GridEstimation\n\ngrid_estimator = GridEstimation(ndim, bounds, prior, likelihood)\nposterior, x_ndim = grid_estimator.run(nbins=[50,40])"
      ]
    },
    {
      "cell_type": "markdown",
      "metadata": {},
      "source": [
        "The following figure plots the estimated posterior.\n\n\n"
      ]
    },
    {
      "cell_type": "code",
      "execution_count": null,
      "metadata": {
        "collapsed": false
      },
      "outputs": [],
      "source": [
        "import matplotlib.pyplot as plt\n\nfig, ax = plt.subplots(1,1,figsize=(6,4))\n\n# mask insignificant values\nposterior = np.where(posterior < 1e-10, np.nan, posterior)\n\ncontour = ax.contour(x_ndim[0], x_ndim[1], np.transpose(posterior), levels=10)\nplt.colorbar(contour, ax=ax)\nax.set_xlim(bounds[0,0], bounds[0,1])\nax.set_ylim(bounds[1,0], bounds[1,1])\nax.set_title('Grid estimation')\nax.set_xlabel('x1')\nax.set_ylabel('x2')\nplt.tight_layout()"
      ]
    },
    {
      "cell_type": "markdown",
      "metadata": {},
      "source": [
        "To estimate the posterior using Metropolis Hastings estimation, we need to import\nthe :class:`.MetropolisHastingsEstimation` class, create an instance, and call the \n:py:meth:`.MetropolisHastingsEstimation.run` method. The \n:py:meth:`.MetropolisHastingsEstimation.run` method has a parameter, ``mh_sampler``,\nwhich takes an instance of :class:`.MetropolisHastings` as argument.\n\n"
      ]
    },
    {
      "cell_type": "code",
      "execution_count": null,
      "metadata": {
        "collapsed": false
      },
      "outputs": [],
      "source": [
        "from psimpy.inference.bayes_inference import MetropolisHastingsEstimation\n\nmh_estimator = MetropolisHastingsEstimation(ndim, bounds, prior, likelihood)\n\n# create a mh_sampler\nfrom psimpy.sampler.metropolis_hastings import MetropolisHastings\nfrom scipy.stats import multivariate_normal\n\ninit_state = np.array([-4,-4])\nf_sample = multivariate_normal.rvs\nnburn = 100\nnthin = 10\nseed = 1\nkwgs_f_sample = {'random_state': np.random.default_rng(seed)}\n\nmh_sampler = MetropolisHastings(ndim=ndim, init_state=init_state,\n    f_sample=f_sample, bounds=bounds, nburn=nburn, nthin=nthin, seed=seed,\n    kwgs_f_sample=kwgs_f_sample)\n    \nnsamples = 5000\nmh_samples, mh_accept = mh_estimator.run(nsamples, mh_sampler)"
      ]
    },
    {
      "cell_type": "markdown",
      "metadata": {},
      "source": [
        "The following figure plots the samples drawn from the unnormalized posterior,\nwhich can be used to estimate the posterior and its poperties.\n\n\n"
      ]
    },
    {
      "cell_type": "code",
      "execution_count": null,
      "metadata": {
        "collapsed": false
      },
      "outputs": [],
      "source": [
        "import matplotlib.pyplot as plt\n\nfig, ax = plt.subplots(1,1,figsize=(5,4))\n\nax.scatter(mh_samples[:,0], mh_samples[:,1], s=10, c='r', marker='o', alpha=0.1)\nax.set_xlim(bounds[0,0], bounds[0,1])\nax.set_ylim(bounds[1,0], bounds[1,1])\nax.set_title('MH estimation')\nax.set_xlabel('x1')\nax.set_ylabel('x2')\nplt.tight_layout()"
      ]
    },
    {
      "cell_type": "markdown",
      "metadata": {},
      "source": [
        "<div class=\"alert alert-info\"><h4>Note</h4><p>Besides ``prior`` and ``likelihood``, one can also instantiate\n    the :class:`.MetropolisHastingsEstimation` class with\n\n     - ``ln_prior`` and ``ln_likelihood``: Natural logarithm of ``prior`` and ``likelihood``.\n     - ``ln_pxl``: Natural logarithm of the product of ``prior`` and ``likelihood``.</p></div>\n\n"
      ]
    }
  ],
  "metadata": {
    "kernelspec": {
      "display_name": "Python 3",
      "language": "python",
      "name": "python3"
    },
    "language_info": {
      "codemirror_mode": {
        "name": "ipython",
        "version": 3
      },
      "file_extension": ".py",
      "mimetype": "text/x-python",
      "name": "python",
      "nbconvert_exporter": "python",
      "pygments_lexer": "ipython3",
      "version": "3.12.0"
    }
  },
  "nbformat": 4,
  "nbformat_minor": 0
}
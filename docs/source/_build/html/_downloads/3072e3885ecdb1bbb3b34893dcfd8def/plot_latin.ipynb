{
  "cells": [
    {
      "cell_type": "code",
      "execution_count": null,
      "metadata": {
        "collapsed": false
      },
      "outputs": [],
      "source": [
        "%matplotlib inline"
      ]
    },
    {
      "cell_type": "markdown",
      "metadata": {},
      "source": [
        "\n# Latin hypercube sampling\n"
      ]
    },
    {
      "cell_type": "markdown",
      "metadata": {},
      "source": [
        "This example shows how to draw samples using Latin hypercube sampling.\n\n\n\n"
      ]
    },
    {
      "cell_type": "markdown",
      "metadata": {},
      "source": [
        "For the illustration purpose, let's have a look at a two-dimensional example\nwhere we have two random variables X and Y. Each is uniformly distributed in its\nrange.\n\n"
      ]
    },
    {
      "cell_type": "code",
      "execution_count": null,
      "metadata": {
        "collapsed": false
      },
      "outputs": [],
      "source": [
        "import numpy as np\n\nndim = 2\n# range of X is 10 to 20, range of Y is -10 to 0\nbounds = np.array([[10,20], [-10,0]])"
      ]
    },
    {
      "cell_type": "markdown",
      "metadata": {},
      "source": [
        "Given this setting, we can import :class:`.Latin`, create an instance, and\ncall the :py:meth:`.Latin.sample` method to draw required number of samples\n\n"
      ]
    },
    {
      "cell_type": "code",
      "execution_count": null,
      "metadata": {
        "collapsed": false
      },
      "outputs": [],
      "source": [
        "from psimpy.sampler import LHS\n\n# setting seed leads to same samples every time when the codes are run\nlhs_sampler = LHS(ndim, bounds, seed=10)\nlhs_samples = lhs_sampler.sample(nsamples=5)"
      ]
    },
    {
      "cell_type": "markdown",
      "metadata": {},
      "source": [
        "The samples are plotted in the following figure.\n\n"
      ]
    },
    {
      "cell_type": "code",
      "execution_count": null,
      "metadata": {
        "collapsed": false
      },
      "outputs": [],
      "source": [
        "import matplotlib.pyplot as plt\n\nfig , ax = plt.subplots(figsize=(6,4))\n\nax.scatter(lhs_samples[:,0], lhs_samples[:,1], s=10, c='blue', marker='o')\n\nax.set_xlabel('X')\nax.set_ylabel('Y')\nax.set_xlim(bounds[0])\nax.set_ylim(bounds[1])\nax.set_title(\"Latin hypercube samples (criterion='random')\")\n_ = ax.grid(visible=True, which='major', axis='both')"
      ]
    },
    {
      "cell_type": "markdown",
      "metadata": {},
      "source": [
        "There are different criterions to pick samples in each hypercube. The default\nis `random`, as used above. Other options are `center` and `maximin`. For instance,\nwe can use the `center` criterion to draw $5$ samples as follows:\n\n"
      ]
    },
    {
      "cell_type": "code",
      "execution_count": null,
      "metadata": {
        "collapsed": false
      },
      "outputs": [],
      "source": [
        "lhs_sampler = LHS(ndim, bounds, criterion='center', seed=10)\nlhs_samples = lhs_sampler.sample(nsamples=5)\n\nfig , ax = plt.subplots(figsize=(6,4))\n\nax.scatter(lhs_samples[:,0], lhs_samples[:,1], s=10, c='blue', marker='o')\n\nax.set_xlabel('X')\nax.set_ylabel('Y')\nax.set_xlim(bounds[0])\nax.set_ylim(bounds[1])\nax.set_title(\"Latin hypercube samples (criterion='center')\")\n_ = ax.grid(visible=True, which='major', axis='both')"
      ]
    },
    {
      "cell_type": "markdown",
      "metadata": {},
      "source": [
        "And we can use the `maximin` criterion as follows:\n\n"
      ]
    },
    {
      "cell_type": "code",
      "execution_count": null,
      "metadata": {
        "collapsed": false
      },
      "outputs": [],
      "source": [
        "lhs_sampler = LHS(ndim, bounds, criterion='maximin', seed=10, iteration=500)\nlhs_samples = lhs_sampler.sample(nsamples=5)\n\nfig , ax = plt.subplots(figsize=(6,4))\n\nax.scatter(lhs_samples[:,0], lhs_samples[:,1], s=10, c='blue', marker='o')\n\nax.set_xlabel('X')\nax.set_ylabel('Y')\nax.set_xlim(bounds[0])\nax.set_ylim(bounds[1])\nax.set_title(\"Latin hypercube samples (criterion='maximin')\")\n_ = ax.grid(visible=True, which='major', axis='both')"
      ]
    }
  ],
  "metadata": {
    "kernelspec": {
      "display_name": "Python 3",
      "language": "python",
      "name": "python3"
    },
    "language_info": {
      "codemirror_mode": {
        "name": "ipython",
        "version": 3
      },
      "file_extension": ".py",
      "mimetype": "text/x-python",
      "name": "python",
      "nbconvert_exporter": "python",
      "pygments_lexer": "ipython3",
      "version": "3.12.0"
    }
  },
  "nbformat": 4,
  "nbformat_minor": 0
}
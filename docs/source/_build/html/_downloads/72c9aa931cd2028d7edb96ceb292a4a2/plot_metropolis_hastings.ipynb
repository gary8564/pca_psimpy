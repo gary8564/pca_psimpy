{
  "cells": [
    {
      "cell_type": "code",
      "execution_count": null,
      "metadata": {
        "collapsed": false
      },
      "outputs": [],
      "source": [
        "%matplotlib inline"
      ]
    },
    {
      "cell_type": "markdown",
      "metadata": {},
      "source": [
        "\n# Metropolis Hastings sampling\n"
      ]
    },
    {
      "cell_type": "markdown",
      "metadata": {},
      "source": [
        "This example shows how to draw samples using Metropolis Hastings sampling.\nThe target probability distribution is\n\n$p(\\mathbf{x})=p(x_1, x_2) \\propto \\exp \\left(-\\frac{1}{100}\\left(x_1-1\\right)^2-\\left(x_1^2-x_2\\right)^2\\right)$\n\nwhere $x_1 \\in [-5,5]$ and $x_2 \\in [-5,5]$.\n\nIt should be noted that the right hand side of the equation is an unnormalized\nprobability density function since its integral is not equal to $1$.\nThis can happen, for example, when the normalization constant is unknown or difficult\nto compute.\n\nWe can define the target probability distribution in Python as follows:\n\n\n"
      ]
    },
    {
      "cell_type": "code",
      "execution_count": null,
      "metadata": {
        "collapsed": false
      },
      "outputs": [],
      "source": [
        "import numpy as np\n\ndef target_dist(x):\n    if (x[0]>=-5 and x[0]<=5) and (x[1]>=-5 and x[1]<=5):\n        return np.exp(-0.01*(x[0]-1)**2 - (x[0]**2-x[1])**2)\n    else:\n        return 0"
      ]
    },
    {
      "cell_type": "markdown",
      "metadata": {},
      "source": [
        "The figure below shows how the target distribution looks like.\n\n"
      ]
    },
    {
      "cell_type": "code",
      "execution_count": null,
      "metadata": {
        "collapsed": false
      },
      "outputs": [],
      "source": [
        "import matplotlib.pyplot as plt\nimport itertools\n\nx1_values = np.linspace(-5,5.1,100)\nx2_values = np.linspace(-5,5.1,100)\n\ntarget_values = np.zeros((100, 100))\nfor i, j in itertools.product(range(100), range(100)):\n    x1 = x1_values[i]\n    x2 = x2_values[j]\n    target_values[i,j] = target_dist(np.array([x1, x2]))\n\nfig , ax = plt.subplots(figsize=(4,4))\n\nax.contourf(x1_values, x2_values, np.transpose(target_values), levels=10, cmap='Blues')\n\nax.set_title('(unnormalized) target distribution')\nax.set_xlabel(r'$x_1$')\nax.set_ylabel(r'$x_2$')\nax.set_xlim(-5,5)\nax.set_ylim(-5,5)\nplt.tight_layout()"
      ]
    },
    {
      "cell_type": "markdown",
      "metadata": {},
      "source": [
        "To perform Metropolis Hastings sampling, we need to choose a proposal distribution\nwhich can be used to determine a new state ``x'`` given a current state ``x`` at\neach iteration. This is defined by the parameter ``f_sample`` which should be a\nfunction. A usual choice is to choose the new state from a Gaussian distribution\ncentered at the current state.\n\n\n"
      ]
    },
    {
      "cell_type": "code",
      "execution_count": null,
      "metadata": {
        "collapsed": false
      },
      "outputs": [],
      "source": [
        "from scipy.stats import multivariate_normal\n\nf_sample = multivariate_normal.rvs\n# make the samples reproducible\nkwgs_f_sample = {'random_state': np.random.default_rng(seed=1)}"
      ]
    },
    {
      "cell_type": "markdown",
      "metadata": {},
      "source": [
        "Then, we create an instance of :class:`.MetropolisHastings` class.\n\n"
      ]
    },
    {
      "cell_type": "code",
      "execution_count": null,
      "metadata": {
        "collapsed": false
      },
      "outputs": [],
      "source": [
        "from psimpy.sampler.metropolis_hastings import MetropolisHastings\n\nmh_sampler = MetropolisHastings(ndim=2, init_state=np.array([-4,-4]),\n    f_sample=f_sample, target=target_dist, nburn=1000, nthin=5,\n    seed=1, kwgs_f_sample=kwgs_f_sample)"
      ]
    },
    {
      "cell_type": "markdown",
      "metadata": {},
      "source": [
        "Next, we call the :py:meth:`.MetropolisHastings.sample` method to draw required \nnumber of samples.\n\n"
      ]
    },
    {
      "cell_type": "code",
      "execution_count": null,
      "metadata": {
        "collapsed": false
      },
      "outputs": [],
      "source": [
        "mh_samples, mh_accept = mh_sampler.sample(nsamples=5000)\n\nprint(\"Acceptance ratio: \", np.mean(mh_accept))"
      ]
    },
    {
      "cell_type": "markdown",
      "metadata": {},
      "source": [
        "The following figure shows how the samples look like.\n\n"
      ]
    },
    {
      "cell_type": "code",
      "execution_count": null,
      "metadata": {
        "collapsed": false
      },
      "outputs": [],
      "source": [
        "import matplotlib.pyplot as plt\nimport itertools\n\n# sphinx_gallery_thumbnail_number = 2\nfig , ax = plt.subplots(figsize=(4,4))\n\nax.contourf(x1_values, x2_values, np.transpose(target_values), levels=10, cmap='Blues')\nax.scatter(mh_samples[:,0], mh_samples[:,1], s=5, c='r', marker='o',alpha=0.05)\n\nax.set_title('Metropolis Hastings samples')\nax.set_xlabel(r'$x_1$')\nax.set_ylabel(r'$x_2$')\nax.set_xlim(-5,5)\nax.set_ylim(-5,5)\nplt.tight_layout()"
      ]
    }
  ],
  "metadata": {
    "kernelspec": {
      "display_name": "Python 3",
      "language": "python",
      "name": "python3"
    },
    "language_info": {
      "codemirror_mode": {
        "name": "ipython",
        "version": 3
      },
      "file_extension": ".py",
      "mimetype": "text/x-python",
      "name": "python",
      "nbconvert_exporter": "python",
      "pygments_lexer": "ipython3",
      "version": "3.12.0"
    }
  },
  "nbformat": 4,
  "nbformat_minor": 0
}
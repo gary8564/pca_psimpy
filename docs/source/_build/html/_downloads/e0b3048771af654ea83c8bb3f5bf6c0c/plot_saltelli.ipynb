{
  "cells": [
    {
      "cell_type": "code",
      "execution_count": null,
      "metadata": {
        "collapsed": false
      },
      "outputs": [],
      "source": [
        "%matplotlib inline"
      ]
    },
    {
      "cell_type": "markdown",
      "metadata": {},
      "source": [
        "\n# Saltelli sampling\n"
      ]
    },
    {
      "cell_type": "markdown",
      "metadata": {},
      "source": [
        "This example shows how to draw samples using Saltelli sampling. \nAssume that there is a three-dimensional problem where X, Y, and Z are the\nthree random variables.\n\n"
      ]
    },
    {
      "cell_type": "code",
      "execution_count": null,
      "metadata": {
        "collapsed": false
      },
      "outputs": [],
      "source": [
        "import numpy as np\n\nndim = 3\n# range of X is 10 to 20, range of Y is 100 to 200, range of Z is 1000 to 2000\nbounds = np.array([[10,20], [100,200], [1000,2000]])"
      ]
    },
    {
      "cell_type": "markdown",
      "metadata": {},
      "source": [
        "Given this setting, we can import :class:`.Saltelli`, create an instance, and\ncall the :py:meth:`.Saltelli.sample` method to draw required number of samples.\n\n"
      ]
    },
    {
      "cell_type": "code",
      "execution_count": null,
      "metadata": {
        "collapsed": false
      },
      "outputs": [],
      "source": [
        "from psimpy.sampler import Saltelli\n\nsaltelli_sampler = Saltelli(ndim, bounds, calc_second_order=False)\nsaltelli_samples = saltelli_sampler.sample(nbase=128)"
      ]
    },
    {
      "cell_type": "markdown",
      "metadata": {},
      "source": [
        "In above codes, we set ``calc_second_order`` to `False`. It means that picked\nsamples can be used in following Sobol' analysis to compute first-order and\ntotal-effect Sobol' indices but not second-order Sobol' indices. It leads to \n$nbase*(ndim+2)$ samples as shown below\n\n"
      ]
    },
    {
      "cell_type": "code",
      "execution_count": null,
      "metadata": {
        "collapsed": false
      },
      "outputs": [],
      "source": [
        "import matplotlib.pyplot as plt\n\nfig = plt.figure()\nax = fig.add_subplot(projection='3d')\n\nax.scatter(saltelli_samples[:,0], saltelli_samples[:,1], saltelli_samples[:,2], marker='o')\nax.set_xlabel('X')\nax.set_ylabel('Y')\nax.set_zlabel('Z')\n\nplt.tight_layout()\n\nprint('Number of samples: ', f'{len(saltelli_samples)}')"
      ]
    },
    {
      "cell_type": "markdown",
      "metadata": {},
      "source": [
        "If we want to draw samples which can also be used to compute second-order\nSobol' indices, we need to set ``calc_second_order`` to `True`.\nIt leads to $nbase*(2*ndim+2)$ samples.\n\n"
      ]
    },
    {
      "cell_type": "code",
      "execution_count": null,
      "metadata": {
        "collapsed": false
      },
      "outputs": [],
      "source": [
        "saltelli_sampler = Saltelli(ndim, bounds, calc_second_order=True)\nsaltelli_samples = saltelli_sampler.sample(nbase=128)\n\nfig = plt.figure()\nax = fig.add_subplot(projection='3d')\n\nax.scatter(saltelli_samples[:,0], saltelli_samples[:,1], saltelli_samples[:,2], marker='o')\nax.set_xlabel('X')\nax.set_ylabel('Y')\nax.set_zlabel('Z')\n\nplt.tight_layout()\n\nprint('Number of samples: ', f'{len(saltelli_samples)}')"
      ]
    },
    {
      "cell_type": "markdown",
      "metadata": {},
      "source": [
        "<div class=\"alert alert-info\"><h4>Note</h4><p>If one has a two-dimensional problem, there is no need to set\n    ``calc_second_order`` to `True`. The reason is that the second-order Sobol'\n    index can be directly computed based on the first-order and total-effect\n    Sobol' index in that case.</p></div>\n\n"
      ]
    }
  ],
  "metadata": {
    "kernelspec": {
      "display_name": "Python 3",
      "language": "python",
      "name": "python3"
    },
    "language_info": {
      "codemirror_mode": {
        "name": "ipython",
        "version": 3
      },
      "file_extension": ".py",
      "mimetype": "text/x-python",
      "name": "python",
      "nbconvert_exporter": "python",
      "pygments_lexer": "ipython3",
      "version": "3.12.0"
    }
  },
  "nbformat": 4,
  "nbformat_minor": 0
}